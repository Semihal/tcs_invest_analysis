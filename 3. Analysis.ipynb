{
 "cells": [
  {
   "cell_type": "markdown",
   "id": "6c8dc5d4-9b0d-44c0-aa6b-a69da64fe2a1",
   "metadata": {},
   "source": [
    "[ ] Чаще покупаю на повышение средней цены или понижение?"
   ]
  },
  {
   "cell_type": "code",
   "execution_count": null,
   "id": "dbca1f9f-1e65-44c7-adec-bdf0307696a6",
   "metadata": {},
   "outputs": [],
   "source": [
    "import datetime as dt\n",
    "from pathlib import Path\n",
    "from functools import reduce\n",
    "import math\n",
    "import warnings\n",
    "warnings.filterwarnings('ignore')\n",
    "\n",
    "import numpy as np\n",
    "import pandas as pd\n",
    "import matplotlib.pyplot as plt\n",
    "import seaborn as sns"
   ]
  },
  {
   "cell_type": "code",
   "execution_count": null,
   "id": "44c723bf-5f06-4012-99f7-7f9a9121aaba",
   "metadata": {},
   "outputs": [],
   "source": [
    "from matplotlib.dates import MonthLocator"
   ]
  },
  {
   "cell_type": "code",
   "execution_count": null,
   "id": "f6155a57-03bf-4fae-bf6c-493f266c14e6",
   "metadata": {},
   "outputs": [],
   "source": [
    "month_locator = MonthLocator()"
   ]
  },
  {
   "cell_type": "markdown",
   "id": "998440be-afbd-4339-ad2c-78c0e3770418",
   "metadata": {},
   "source": [
    "# Загрузка данных"
   ]
  },
  {
   "cell_type": "markdown",
   "id": "3faf6d1f-d224-4568-bb35-c5d4d35a58af",
   "metadata": {},
   "source": [
    "## Операции Тинькофф"
   ]
  },
  {
   "cell_type": "code",
   "execution_count": null,
   "id": "3bd84155-819a-471a-91bd-62c89fcf0ff9",
   "metadata": {},
   "outputs": [],
   "source": [
    "operations = pd.read_csv('data/tinkoff/operations.csv', index_col='id', parse_dates=['dt']).sort_values(by='dt')\n",
    "operations['total_price'] = operations['total_price'].apply(lambda x: -x)\n",
    "operations['count'] = operations.apply(lambda x: -x['count'] if x['operation_type'] == 'sell' else x['count'], axis=1)\n",
    "operations = operations[operations['operation_type'].isin(['buy', 'sell', 'buy_card'])]\n",
    "# operations = operations.groupby('ticker', as_index=False).first()\n",
    "\n",
    "buy_list = operations[['dt', 'isin', 'ticker', 'operation_type', 'count', 'unit_price', 'total_price']]\n",
    "buy_list['date'] = buy_list['dt'].dt.date\n",
    "buy_list['cum_count'] = buy_list.groupby('ticker')['count'].cumsum()\n",
    "buy_list['cum_spent'] = buy_list.groupby('ticker')['total_price'].cumsum()\n",
    "buy_list['avg_price'] = buy_list.apply(lambda x: None if x['cum_count'] == 0 else x['cum_spent'] / x['cum_count'], axis=1)\n",
    "buy_list.head()"
   ]
  },
  {
   "cell_type": "code",
   "execution_count": null,
   "id": "ea0108c9-38d6-435b-af0c-c38dd182058f",
   "metadata": {},
   "outputs": [],
   "source": [
    "ticker_cumcount = buy_list.groupby('ticker').last()['cum_count'] > 0\n",
    "active_ticker = ticker_cumcount[ticker_cumcount].index\n",
    "buy_list = buy_list[buy_list['ticker'].isin(active_ticker)]"
   ]
  },
  {
   "cell_type": "code",
   "execution_count": null,
   "id": "45ef811c-8696-4db4-a570-3fe9be31975d",
   "metadata": {},
   "outputs": [],
   "source": [
    "# count_l = buy_list['count'].apply(lambda x: [] if pd.isnull(x) else [int(x)])\n",
    "# cum_list_count = count_l.groupby(buy_list['ticker']).apply(lambda x: x.cumsum())"
   ]
  },
  {
   "cell_type": "code",
   "execution_count": null,
   "id": "292ff951-4a06-4ef0-8079-e4ff8c9663b1",
   "metadata": {},
   "outputs": [],
   "source": [
    "# spent_l = buy_list['total_price'].apply(lambda x: [] if pd.isnull(x) else [x])\n",
    "# cum_list_spent = spent_l.groupby(buy_list['ticker']).apply(lambda x: x.cumsum())"
   ]
  },
  {
   "cell_type": "code",
   "execution_count": null,
   "id": "50b0fcb5-a5f2-4e6f-b33a-4c89281e0524",
   "metadata": {},
   "outputs": [],
   "source": [
    "# buy_list['list_buy'] = [\n",
    "#     [(x, y) for x, y in zip(*zip_first)]\n",
    "#     for zip_first in list(zip(cum_list_count, cum_list_spent))\n",
    "# ]"
   ]
  },
  {
   "cell_type": "code",
   "execution_count": null,
   "id": "29062f2f-8844-486a-a04e-8fcc84226534",
   "metadata": {},
   "outputs": [],
   "source": [
    "stocks = []\n",
    "for path in Path('data/investfunds/').iterdir():\n",
    "    if not path.suffix == '.csv':\n",
    "        continue\n",
    "    df = (pd.read_csv(path, parse_dates=['dt'])\n",
    "          .rename(columns={'dt': 'date'})\n",
    "          .sort_values(by='date')\n",
    "          .reset_index(drop=True)\n",
    "          .assign(isin=path.stem))\n",
    "    df['date'] = df['date'].dt.date\n",
    "    stocks.append(df)\n",
    "stocks = pd.concat(stocks, axis=0)"
   ]
  },
  {
   "cell_type": "markdown",
   "id": "ccdebe5d-4fce-41db-87e6-e50e05975e0d",
   "metadata": {},
   "source": [
    "## Подсчет итоговых данных"
   ]
  },
  {
   "cell_type": "code",
   "execution_count": null,
   "id": "01d225aa-f382-499d-980e-c996f557d660",
   "metadata": {},
   "outputs": [],
   "source": [
    "merged_list = stocks.merge(buy_list[['date', 'isin', 'ticker', 'operation_type', 'cum_count', 'cum_spent', 'avg_price']], on=['date', 'isin'], how='left')\n",
    "merged_list.loc[:, ['ticker', 'cum_count', 'cum_spent', 'avg_price']] = merged_list.groupby('isin').ffill()[['ticker', 'cum_count', 'cum_spent', 'avg_price']]\n",
    "# подсчет итоговой прибыли в абсолютном значении\n",
    "merged_list['profit'] = merged_list.apply(lambda x: x['cum_count'] * (x['close_price'] - x['avg_price']), axis=1)\n",
    "# подсчет итоговой прибыли в процентах\n",
    "merged_list['profit_percent'] = merged_list.apply(lambda x: x['cum_count'] * (x['close_price'] - x['avg_price']) / x['cum_spent'], axis=1).mul(100)\n",
    "# удаляем записи, где отсутствует общее количество акций\n",
    "merged_list.loc[merged_list['cum_count'] == 0, 'avg_price'] = None\n",
    "merged_list = merged_list.dropna(subset=['cum_count', 'avg_price'])"
   ]
  },
  {
   "cell_type": "code",
   "execution_count": null,
   "id": "e6fff9f9-0a7c-4943-8bad-6c4d7cc3f066",
   "metadata": {},
   "outputs": [],
   "source": [
    "# процент ETF по типам активов\n",
    "last_day = merged_list[merged_list['date'] == merged_list['date'].max()]\n",
    "last_day.groupby('investemnt_object_type').apply(lambda x: round(x['cum_spent'].sum() / last_day['cum_spent'].sum(), 2)).mul(100)"
   ]
  },
  {
   "cell_type": "markdown",
   "id": "6e325ed7-0017-4f3e-84ab-4422ad2f9f72",
   "metadata": {
    "tags": []
   },
   "source": [
    "# График общей прибыли"
   ]
  },
  {
   "cell_type": "code",
   "execution_count": null,
   "id": "a79edb1b-bc1d-4103-8ef7-c7fbb2c499f3",
   "metadata": {},
   "outputs": [],
   "source": [
    "buy_date = buy_list.copy().set_index('date')\n",
    "buy_date = buy_date['cum_spent'] - buy_date['cum_spent'].shift()\n",
    "buy_date = buy_date[buy_date > 0]\n",
    "buy_date = buy_date.groupby('date').sum().sort_index().rename('sum').reset_index()\n",
    "buy_date.head()"
   ]
  },
  {
   "cell_type": "code",
   "execution_count": null,
   "id": "7f9ca2be-9969-43e3-8e72-838c61944d3d",
   "metadata": {},
   "outputs": [],
   "source": [
    "all_profit = merged_list.groupby('date').apply(lambda x: (x['cum_count'] * (x['close_price'] - x['avg_price'])).sum() / x['cum_spent'].sum()).mul(100).rename('profit').reset_index()\n",
    "all_profit = all_profit.merge(buy_date, on='date', how='left')\n",
    "all_profit['profit'].agg(\n",
    "    min_profit='min',\n",
    "    max_profit='max',\n",
    "    last_profit=lambda x: x.iloc[-1],\n",
    ").to_frame().T"
   ]
  },
  {
   "cell_type": "code",
   "execution_count": null,
   "id": "44af1c22-9b93-40d7-9d8a-3d5c6203f3af",
   "metadata": {},
   "outputs": [],
   "source": [
    "buy_date_size_point = all_profit.dropna()\n",
    "buy_date_size_point = buy_date_size_point['sum'].div(buy_date_size_point['sum'].max()).mul(100).values"
   ]
  },
  {
   "cell_type": "code",
   "execution_count": null,
   "id": "ef3d03f5-273a-4619-8508-734d7954748e",
   "metadata": {},
   "outputs": [],
   "source": [
    "fig = plt.figure(figsize=(20, 10))\n",
    "sns.lineplot(data=all_profit, x='date', y='profit')\n",
    "plt.axhline(y=0, color='black', linestyle='--', alpha=0.7)\n",
    "plt.scatter(all_profit.dropna()['date'], all_profit.dropna()['profit'], s=buy_date_size_point, c='r')\n",
    "plt.grid(linestyle='--', alpha=0.3)\n",
    "plt.title('График прибыльности во времени')\n",
    "plt.tight_layout()\n",
    "plt.gcf().autofmt_xdate()\n",
    "plt.gca().xaxis.set_major_locator(month_locator)\n",
    "plt.savefig('artifacts/profit.png')"
   ]
  },
  {
   "cell_type": "markdown",
   "id": "8256d32a-304b-4821-b3ad-7b1ccce1c980",
   "metadata": {
    "tags": []
   },
   "source": [
    "# Прибыль по типам бумаг"
   ]
  },
  {
   "cell_type": "code",
   "execution_count": null,
   "id": "c13c8631-b67c-4a79-b575-46b29bf9571b",
   "metadata": {},
   "outputs": [],
   "source": [
    "type_profit = merged_list.groupby(['date', 'investemnt_object_type']).apply(lambda x: (x['cum_count'] * (x['close_price'] - x['avg_price'])).sum() / x['cum_spent'].sum()).mul(100).rename('profit').reset_index()\n",
    "type_profit.groupby('investemnt_object_type').agg(\n",
    "    min_profit=('profit', 'min'),\n",
    "    max_profit=('profit', 'max'),\n",
    "    last_profit=('profit', 'last'),\n",
    "    days=('date', lambda x: x.max() - x.min())\n",
    ")"
   ]
  },
  {
   "cell_type": "code",
   "execution_count": null,
   "id": "e3e9738f-6aef-4020-94e1-da2b6b1f1ef9",
   "metadata": {},
   "outputs": [],
   "source": [
    "fig = plt.figure(figsize=(20, 10))\n",
    "sns.lineplot(data=type_profit, x='date', y='profit', hue='investemnt_object_type')\n",
    "plt.axhline(y=0, color='black', linestyle='--', alpha=0.7)\n",
    "plt.grid(linestyle='--', alpha=0.3)\n",
    "plt.title('График прибыльности по типам')\n",
    "plt.tight_layout()\n",
    "plt.gcf().autofmt_xdate()\n",
    "plt.gca().xaxis.set_major_locator(month_locator)\n",
    "plt.savefig('artifacts/type_profit.png')"
   ]
  },
  {
   "cell_type": "markdown",
   "id": "70cec1de-ad49-4c44-86e1-29bca42bd6b0",
   "metadata": {},
   "source": [
    "## Корреляции между типами"
   ]
  },
  {
   "cell_type": "code",
   "execution_count": null,
   "id": "b9d63371-4a76-46d5-ab8e-91b1097ae17b",
   "metadata": {},
   "outputs": [],
   "source": [
    "gold = type_profit[(type_profit['date'] >= dt.date(2020, 11, 1)) & (type_profit['investemnt_object_type'] == 'Драгметаллы')]\n",
    "stock = type_profit[(type_profit['date'].isin(gold['date'].unique())) & (type_profit['investemnt_object_type'] == 'Акции')]\n",
    "bond = type_profit[(type_profit['date'].isin(gold['date'].unique())) & (type_profit['investemnt_object_type'] == 'Облигации')]\n",
    "\n",
    "print('Акции vs Драгметаллы:', round(np.corrcoef(stock['profit'], gold['profit'])[0][1], 3))\n",
    "print('Акции vs Облигации:', round(np.corrcoef(stock['profit'], bond['profit'])[0][1], 3))\n",
    "print('Драгметаллы vs Облигации:', round(np.corrcoef(gold['profit'], bond['profit'])[0][1], 3))"
   ]
  },
  {
   "cell_type": "markdown",
   "id": "e3889b63-bd83-49c0-889b-abec9ddaec84",
   "metadata": {
    "tags": []
   },
   "source": [
    "# График прибыли по тикерам"
   ]
  },
  {
   "cell_type": "code",
   "execution_count": null,
   "id": "78bbc59f-bfa9-4575-aba1-74a95b32ad4f",
   "metadata": {},
   "outputs": [],
   "source": [
    "merged_list.groupby('ticker').agg(\n",
    "    cnt=('cum_count', 'last'),\n",
    "    avg_price=('avg_price', 'last'),\n",
    "    min_profit=('profit_percent', 'min'),\n",
    "    max_profit=('profit_percent', 'max'),\n",
    "    last_profit=('profit_percent', 'last'),\n",
    "    days=('date', lambda x: x.max() - x.min())\n",
    ").sort_values(by='max_profit', ascending=False)"
   ]
  },
  {
   "cell_type": "code",
   "execution_count": null,
   "id": "33030d26-2df1-4b58-aaf1-e6deb50652c8",
   "metadata": {},
   "outputs": [],
   "source": [
    "tickers = merged_list['ticker'].unique()\n",
    "total_tickers = len(tickers)\n",
    "max_cols = 2\n",
    "max_rows = math.ceil(total_tickers / max_cols)\n",
    "fig = plt.figure(figsize=(10 * max_cols, 5 * max_rows)) \n",
    "for index, ticker in enumerate(tickers[:total_tickers], start=1):\n",
    "    ticker_data = merged_list[merged_list['ticker'] == ticker]\n",
    "    ax = plt.subplot(max_rows, max_cols, index)\n",
    "    ax.set_xlabel('Дата')\n",
    "    ax.set_ylabel('Цена, руб.')\n",
    "    l1 = ax.plot(merged_list.loc[merged_list['ticker'] == ticker, 'date'], merged_list.loc[merged_list['ticker'] == ticker, 'close_price'], color='blue', label='Цена')\n",
    "\n",
    "    ax2 = ax.twinx()\n",
    "    ax2.set_ylabel('Доходность, %')\n",
    "    l2 = ax2.plot(merged_list.loc[merged_list['ticker'] == ticker, 'date'], merged_list.loc[merged_list['ticker'] == ticker, 'profit_percent'], color='red', label='Прибыль')\n",
    "    ax.grid(linestyle='--', alpha=0.5)\n",
    "    plt.title(f'{ticker}')\n",
    "    \n",
    "    for label in ax.get_xticklabels():\n",
    "        label.set_ha(\"right\")\n",
    "        label.set_rotation(30)\n",
    "    lns = l1+l2\n",
    "    labs = [l.get_label() for l in lns]\n",
    "    ax.legend(lns, labs, loc=0)\n",
    "    ax.xaxis.set_major_locator(month_locator)\n",
    "    \n",
    "plt.tight_layout()\n",
    "plt.savefig('artifacts/price_vs_profit.png')"
   ]
  },
  {
   "cell_type": "markdown",
   "id": "44647160-2860-43dc-8951-e2c41b2a9b4a",
   "metadata": {
    "tags": []
   },
   "source": [
    "# Корреляции"
   ]
  },
  {
   "cell_type": "code",
   "execution_count": null,
   "id": "12483695-615e-4db5-8ef5-ac0268ea94d5",
   "metadata": {},
   "outputs": [],
   "source": [
    "dt_price = merged_list[['date', 'ticker', 'close_price']].drop_duplicates()\n",
    "dt_price = dt_price.set_index(['date', 'ticker']).unstack()\n",
    "dt_price.columns = [c[1] for c in dt_price.columns]\n",
    "dt_price = dt_price.dropna()\n",
    "\n",
    "corr = dt_price.corr()\n",
    "mask = np.triu(np.ones_like(corr, dtype=bool))\n",
    "f, ax = plt.subplots(figsize=(11, 9))\n",
    "cmap = sns.color_palette('coolwarm', as_cmap=True)\n",
    "sns.heatmap(corr, mask=mask, cmap=cmap, vmax=1, center=0, vmin=-1, annot=True, square=True, linewidths=.5, cbar_kws={\"shrink\": .5})\n",
    "plt.savefig('artifacts/corr_matrix.png')"
   ]
  },
  {
   "cell_type": "markdown",
   "id": "573b8aee-6643-4653-9113-78515ba1f7fc",
   "metadata": {},
   "source": [
    "# График прибыли по странам (все бумаги страны)"
   ]
  },
  {
   "cell_type": "code",
   "execution_count": null,
   "id": "86fb075a-4cea-4030-b77e-9ff2b668a92d",
   "metadata": {},
   "outputs": [],
   "source": [
    "country_type_profit = merged_list.groupby(['date', 'investemnt_object_type', 'geography']).apply(lambda x: (x['cum_count'] * (x['close_price'] - x['avg_price'])).sum() / x['cum_spent'].sum()).mul(100).rename('profit').reset_index()\n",
    "\n",
    "fig = plt.figure(figsize=(20, 10))\n",
    "sns.lineplot(data=country_type_profit[country_type_profit['investemnt_object_type'] == 'Акции'], x='date', y='profit', hue='geography')\n",
    "plt.axhline(y=0, color='black', linestyle='--', alpha=0.7)\n",
    "plt.grid(linestyle='--', alpha=0.3)\n",
    "plt.title('График прибыльности акций по странам')\n",
    "plt.tight_layout()\n",
    "plt.gca().xaxis.set_major_locator(month_locator)\n",
    "plt.savefig('artifacts/country_stock_profit.png')\n",
    "\n",
    "fig = plt.figure(figsize=(20, 10))\n",
    "sns.lineplot(data=country_type_profit[country_type_profit['investemnt_object_type'] == 'Облигации'], x='date', y='profit', hue='geography')\n",
    "plt.axhline(y=0, color='black', linestyle='--', alpha=0.7)\n",
    "plt.grid(linestyle='--', alpha=0.3)\n",
    "plt.title('График прибыльности облигаций по странам')\n",
    "plt.tight_layout()\n",
    "plt.gca().xaxis.set_major_locator(month_locator)\n",
    "plt.savefig('artifacts/country_bond_profit.png')"
   ]
  }
 ],
 "metadata": {
  "kernelspec": {
   "display_name": "Python 3 (ipykernel)",
   "language": "python",
   "name": "python3"
  },
  "language_info": {
   "codemirror_mode": {
    "name": "ipython",
    "version": 3
   },
   "file_extension": ".py",
   "mimetype": "text/x-python",
   "name": "python",
   "nbconvert_exporter": "python",
   "pygments_lexer": "ipython3",
   "version": "3.8.10"
  }
 },
 "nbformat": 4,
 "nbformat_minor": 5
}