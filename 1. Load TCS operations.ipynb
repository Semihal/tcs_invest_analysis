{
 "cells": [
  {
   "cell_type": "code",
   "execution_count": null,
   "id": "68f5575b-2f0b-4147-8a4f-3b0e94393498",
   "metadata": {},
   "outputs": [],
   "source": [
    "import datetime as dt\n",
    "\n",
    "import pandas as pd\n",
    "import tinvest\n",
    "from tinvest import InstrumentType, OperationTypeWithCommission, Currency, OperationStatus"
   ]
  },
  {
   "cell_type": "code",
   "execution_count": null,
   "id": "bed15f1b-82b0-4134-b8ff-fd02d022feb7",
   "metadata": {},
   "outputs": [],
   "source": [
    "TOKEN = \"insert your token here\"\n",
    "client = tinvest.SyncClient(TOKEN)"
   ]
  },
  {
   "cell_type": "code",
   "execution_count": null,
   "id": "707208b5-2a72-458d-9c86-a710e5caf3f4",
   "metadata": {},
   "outputs": [],
   "source": [
    "accounts = client.get_accounts()\n",
    "broker_account_id = [\n",
    "    brocker_account['broker_account_id']\n",
    "    for brocker_account in accounts.payload.dict()['accounts'] \n",
    "    if brocker_account['broker_account_type'].value == 'TinkoffIis'\n",
    "][0]"
   ]
  },
  {
   "cell_type": "code",
   "execution_count": null,
   "id": "d7cbaf54-5df9-440b-8dc3-9e6beaecd41a",
   "metadata": {},
   "outputs": [],
   "source": [
    "ops_from = dt.datetime.now() - dt.timedelta(days=2 * 365)\n",
    "ops_to = dt.datetime.now()\n",
    "ops = client.get_operations(from_=ops_from, to=ops_to, broker_account_id=broker_account_id)"
   ]
  },
  {
   "cell_type": "code",
   "execution_count": null,
   "id": "f4f96239-6e68-42c3-a0d3-e59441297dcf",
   "metadata": {},
   "outputs": [],
   "source": [
    "ops_df = pd.DataFrame(ops.payload.dict()['operations']).set_index('id')\n",
    "# преобразование даты\n",
    "ops_df['date'] = pd.to_datetime(ops_df['date'])\n",
    "ops_df['date'] = ops_df['date'].apply(lambda x: x.strftime('%Y-%m-%d %H:%M:%S'))\n",
    "# оставляем только успешные п=операции \n",
    "ops_df = ops_df[ops_df['status'] == OperationStatus.done]\n",
    "# учитываем покупки только в валюте RUB \n",
    "ops_df = ops_df[ops_df['currency'] == Currency.rub]\n",
    "# обрабатываем сумму комиссии \n",
    "ops_df['commission'] = ops_df['commission'].apply(lambda x: x['value'] if x is not None else None)\n",
    "# учитываем только операции покупок, родаж и т.д. (минуя пополнения)\n",
    "ops_df = ops_df[ops_df['instrument_type'].notna()]\n",
    "# преобразвование enum -> str\n",
    "ops_df['instrument_type'] = ops_df['instrument_type'].apply(lambda x: x.name)\n",
    "ops_df['operation_type'] = ops_df['operation_type'].apply(lambda x: x.name)\n",
    "# откидываем доп. операции списания комиссии брокера\n",
    "ops_df = ops_df[ops_df['operation_type'] != 'broker_commission']\n",
    "# удаляем лишние колонки\n",
    "ops_df = ops_df.drop(columns=['status', 'trades', 'quantity', 'currency', 'is_margin_call'])\n",
    "# форматирвоание данных: переименовываем колонки в понятные формат и сортируем по дате\n",
    "ops_df = ops_df.rename(columns={'date': 'dt', 'price': 'unit_price', 'payment': 'total_price', 'quantity_executed': 'count', 'commission': 'commission'})\n",
    "ops_df = ops_df.sort_values(by='dt')\n",
    "# сопоставляем кадома FIGI его ticker\n",
    "figi_to_ticker = {figi: client.get_market_search_by_figi(figi).payload.ticker for figi in ops_df['figi'].unique()}\n",
    "ops_df['ticker'] = ops_df['figi'].map(figi_to_ticker)\n",
    "# форматирование днных: колонки в нужном формате\n",
    "ops_df = ops_df[['dt', 'ticker', 'figi', 'instrument_type', 'operation_type', 'total_price', 'unit_price', 'count', 'commission']]\n",
    "ops_df.head()"
   ]
  },
  {
   "cell_type": "code",
   "execution_count": null,
   "id": "6e980d46-8013-4f59-bc91-a27568d872e4",
   "metadata": {},
   "outputs": [],
   "source": [
    "ops_df.to_csv('data/tinkoff/operations.csv', index=True, header=True, encoding='utf-8')"
   ]
  }
 ],
 "metadata": {
  "kernelspec": {
   "display_name": "Python 3 (ipykernel)",
   "language": "python",
   "name": "python3"
  },
  "language_info": {
   "codemirror_mode": {
    "name": "ipython",
    "version": 3
   },
   "file_extension": ".py",
   "mimetype": "text/x-python",
   "name": "python",
   "nbconvert_exporter": "python",
   "pygments_lexer": "ipython3",
   "version": "3.8.10"
  }
 },
 "nbformat": 4,
 "nbformat_minor": 5
}
