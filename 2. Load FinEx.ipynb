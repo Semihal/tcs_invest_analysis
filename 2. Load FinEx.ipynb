{
 "cells": [
  {
   "cell_type": "code",
   "execution_count": null,
   "id": "6daebc6b-1d33-42c7-adc2-73e57155ffa0",
   "metadata": {},
   "outputs": [],
   "source": [
    "import json\n",
    "import requests\n",
    "import datetime as dt\n",
    "import time\n",
    "\n",
    "from lxml import etree\n",
    "import pandas as pd"
   ]
  },
  {
   "cell_type": "code",
   "execution_count": null,
   "id": "2790b4b4-92b0-4195-8d94-0d66db2cc1e9",
   "metadata": {},
   "outputs": [],
   "source": [
    "INVESTMENT_OBJECT_TYPE_XPATH = \"//ul[contains(@class, 'param_list')]/li[span[text() = 'Объект инвестирования']]/div[contains(@class, 'value')]/text()\"\n",
    "GEOGRAPHY_XPATH = \"//ul[contains(@class, 'param_list')]/li[span[text() = 'География инвестирования']]/div[contains(@class, 'value')]/text()\"\n",
    "CURRENCY_XPATH = \"//ul[contains(@class, 'param_list')]/li[span[text() = 'Валюта фонда']]/div[contains(@class, 'value')]/text()\""
   ]
  },
  {
   "cell_type": "code",
   "execution_count": null,
   "id": "ecee3dba-1cfd-4a73-b713-1f171113c830",
   "metadata": {},
   "outputs": [],
   "source": [
    "URL = 'https://investfunds.ru/etf'\n",
    "FINEX_RUB_TICKERS = [\n",
    "    'FXRL', \n",
    "    'FXTP', \n",
    "    'FXIP', \n",
    "    'FXMM', \n",
    "    'FXTB', \n",
    "    'FXCN', \n",
    "    'FXDM', \n",
    "    'FXKZ', \n",
    "    'FXRD', \n",
    "    'FXDE', \n",
    "    'FXWO', \n",
    "    'FXRW', \n",
    "    'FXGD', \n",
    "    'FXRB', \n",
    "    'FXRU', \n",
    "    'FXIT', \n",
    "    'FXIM', \n",
    "    'FXUS', \n",
    "    'FXES'\n",
    "]"
   ]
  },
  {
   "cell_type": "code",
   "execution_count": null,
   "id": "e85849c1-43fb-4434-9629-3b3643c7d8ad",
   "metadata": {},
   "outputs": [],
   "source": [
    "finex_tickers_investfunds_id = {}\n",
    "for ticker in FINEX_RUB_TICKERS:\n",
    "    response = requests.get(URL, {'searchString': ticker}).json()\n",
    "    finex_tickers_investfunds_id[ticker] = response['currentResults'][0]['id.numeric']"
   ]
  },
  {
   "cell_type": "code",
   "execution_count": null,
   "id": "896f8246-e721-4ae3-96af-aaa60f2cd2b8",
   "metadata": {},
   "outputs": [],
   "source": [
    "date_from = '01.01.2018'\n",
    "date_to = dt.date.today().strftime('%d.%m.%Y')\n",
    "payload_default = {\n",
    "    'action': 'chartData',\n",
    "    'data_key': 'close',\n",
    "    'date_from': date_from,\n",
    "    'date_to': date_to,\n",
    "    'needVolume': 1\n",
    "}"
   ]
  },
  {
   "cell_type": "code",
   "execution_count": null,
   "id": "c7b761ed-48be-4bde-923f-e7e8de80be83",
   "metadata": {},
   "outputs": [],
   "source": [
    "def parse_etf_information(url, investfunds_id):\n",
    "    url = f\"{URL}/{investfunds_id}\"\n",
    "    page_content = requests.get(url)\n",
    "    doc = etree.HTML(page_content.content)\n",
    "    investemnt_object_type = doc.xpath(INVESTMENT_OBJECT_TYPE_XPATH)[0]\n",
    "    geography = doc.xpath(GEOGRAPHY_XPATH)[0]\n",
    "    currency = doc.xpath(CURRENCY_XPATH)[0]\n",
    "    return {'investemnt_object_type': investemnt_object_type, 'geography': geography, 'currency': currency}\n",
    "\n",
    "\n",
    "for ticker, investfunds_id in finex_tickers_investfunds_id.items():\n",
    "    url_etf = f\"{URL}/{investfunds_id}/1\"\n",
    "    chart_data = requests.get(url_etf, payload_default).json()[0]['data']\n",
    "    information = parse_etf_information(URL, investfunds_id)\n",
    "    # save to pandas dataframe\n",
    "    df = pd.DataFrame(chart_data, columns=['dt', 'close_price'])\n",
    "    df['dt'] = df['dt'].apply(lambda x: dt.datetime.fromtimestamp(x // 1000))\n",
    "    df = df.assign(**information)\n",
    "    # save to csv\n",
    "    df.to_csv(f'data/investfunds/{ticker}.csv', header=True, index=False, sep=',')\n",
    "    time.sleep(1)"
   ]
  }
 ],
 "metadata": {
  "kernelspec": {
   "display_name": "Python 3 (ipykernel)",
   "language": "python",
   "name": "python3"
  },
  "language_info": {
   "codemirror_mode": {
    "name": "ipython",
    "version": 3
   },
   "file_extension": ".py",
   "mimetype": "text/x-python",
   "name": "python",
   "nbconvert_exporter": "python",
   "pygments_lexer": "ipython3",
   "version": "3.8.10"
  }
 },
 "nbformat": 4,
 "nbformat_minor": 5
}
